{
 "cells": [
  {
   "cell_type": "code",
   "execution_count": 1,
   "metadata": {},
   "outputs": [],
   "source": [
    "import pandas as pd\n",
    "import numpy as np\n",
    "import matplotlib.pyplot as plt\n",
    "%matplotlib inline"
   ]
  },
  {
   "cell_type": "code",
   "execution_count": 2,
   "metadata": {},
   "outputs": [
    {
     "name": "stdout",
     "output_type": "stream",
     "text": [
      "Features = 5\n"
     ]
    }
   ],
   "source": [
    "df = pd.read_csv(\"Train.csv\")\n",
    "train_data = df.values\n",
    "X_train = train_data[:,:-1]\n",
    "Y_train = train_data[:,-1]\n",
    "print(\"Features = %d\"%X_train.shape[1])"
   ]
  },
  {
   "cell_type": "code",
   "execution_count": 3,
   "metadata": {},
   "outputs": [],
   "source": [
    "def hypo(X,theta):\n",
    "    n = X.shape[0]\n",
    "    ans = theta[0]\n",
    "    for i in range(n):\n",
    "        ans += X[i]*theta[i+1]\n",
    "    return ans\n",
    "\n",
    "def error(X,Y,theta):\n",
    "    ans = 0\n",
    "    for i in range(X.shape[0]):\n",
    "        ans += (hypo(X[i],theta) - Y[i])**2\n",
    "    return ans*.5\n",
    "\n",
    "def gradient(X,Y,theta):\n",
    "    m = X.shape[0]\n",
    "    n = X.shape[1]\n",
    "    grad = np.zeros((n+1,))\n",
    "    for i in range(m):\n",
    "        grad[0] += hypo(X[i],theta) - Y[i]\n",
    "    for j in range(n):\n",
    "        for i in range(m):\n",
    "            grad[j+1] += (hypo(X[i],theta) - Y[i])*X[i][j]\n",
    "    return grad\n",
    "\n",
    "def multivariate_gradient_descent(X,Y,l = 0.001,threshold = 1e-3):\n",
    "    n = X.shape[1] + 1\n",
    "    theta = np.zeros((n,))\n",
    "    error_list = []\n",
    "    while True:\n",
    "        if len(error_list) > 1 and abs(error_list[-1] - error_list[-2]) < threshold:\n",
    "            break;\n",
    "        grad = gradient(X,Y,theta)\n",
    "        error_list.append(error(X,Y,theta))\n",
    "        theta -= l*grad\n",
    "    return theta, error_list\n",
    "\n",
    "def predict(X,theta):\n",
    "    m = X.shape[0]\n",
    "    prediction = np.zeros((m,))\n",
    "    for i in range(m):\n",
    "        prediction[i] = hypo(X[i],theta)\n",
    "    return prediction"
   ]
  },
  {
   "cell_type": "code",
   "execution_count": 4,
   "metadata": {},
   "outputs": [],
   "source": [
    "final_result, error_list = multivariate_gradient_descent(X_train,Y_train)"
   ]
  },
  {
   "cell_type": "code",
   "execution_count": 100,
   "metadata": {},
   "outputs": [
    {
     "name": "stdout",
     "output_type": "stream",
     "text": [
      "Hypothesis:  [ 4.9912016  29.68206033 92.66291501  8.28001794 44.76751312  2.51944176]\n"
     ]
    },
    {
     "data": {
      "image/png": "[encoded data removed]",
      "text/plain": [
       "<Figure size 432x288 with 1 Axes>"
      ]
     },
     "metadata": {
      "needs_background": "light"
     },
     "output_type": "display_data"
    }
   ],
   "source": [
    "print(\"Hypothesis: \",final_result)\n",
    "plt.plot(error_list)\n",
    "plt.title(\"Error in deterministic GD\")\n",
    "plt.show()"
   ]
  },
  {
   "cell_type": "code",
   "execution_count": 6,
   "metadata": {},
   "outputs": [],
   "source": [
    "df = pd.read_csv(\"Test.csv\")\n",
    "test_data = df.values\n",
    "X_test = test_data[:,:-1]\n",
    "Y_test = test_data[:,-1]"
   ]
  },
  {
   "cell_type": "code",
   "execution_count": 7,
   "metadata": {},
   "outputs": [],
   "source": [
    "def coeff_of_deter(Y_predicted,Y_actual):\n",
    "    y_mean = Y_actual.mean()\n",
    "    m = Y_predicted.shape[0]\n",
    "    res = 0\n",
    "    tot = 0\n",
    "    for i in range(m):\n",
    "        res += (Y_actual[i] - Y_predicted[i])**2\n",
    "        tot += (Y_actual[i] - y_mean)**2\n",
    "    return 1-res/tot"
   ]
  },
  {
   "cell_type": "code",
   "execution_count": 14,
   "metadata": {},
   "outputs": [
    {
     "name": "stdout",
     "output_type": "stream",
     "text": [
      "Score in deterministic GD\n",
      "Train score: 0.966094\n",
      "Test score: 0.969149\n"
     ]
    }
   ],
   "source": [
    "train_score = coeff_of_deter(predict(X_train,final_result),Y_train)\n",
    "test_score = coeff_of_deter(predict(X_test,final_result),Y_test)\n",
    "print(\"Score in deterministic GD\")\n",
    "print(\"Train score: %f\"%train_score)\n",
    "print(\"Test score: %f\"%test_score)"
   ]
  },
  {
   "cell_type": "code",
   "execution_count": 81,
   "metadata": {},
   "outputs": [],
   "source": [
    "def gradient_mini_batch(X,Y,theta,batch_size):\n",
    "    m = X.shape[0]\n",
    "    n = X.shape[1]\n",
    "    indices = np.arange(m)\n",
    "    np.random.shuffle(indices)\n",
    "    indices = indices[:batch_size]\n",
    "    grad = np.zeros((n+1,))\n",
    "    for i in indices:\n",
    "        grad[0] += hypo(X[i],theta) - Y[i]\n",
    "    for j in range(n):\n",
    "        for i in range(m):\n",
    "            grad[j+1] += (hypo(X[i],theta) - Y[i])*X[i][j]\n",
    "    return grad\n",
    "\n",
    "def multivariate_gradient_descent_mini_batch(X,Y,l = 0.001,threshold = 1,batch_size = 1,epoch_size = 5):\n",
    "    n = X.shape[1] + 1\n",
    "    theta = np.zeros((n,))\n",
    "    error_list = []\n",
    "    itr = 0\n",
    "    while True:\n",
    "        if len(error_list) > 2*epoch_size and itr % batch_size == 0:\n",
    "            e1 = np.array(error_list[-epoch_size:])\n",
    "            e2 = np.array(error_list[-2*epoch_size:-epoch_size])\n",
    "            if abs(e1.mean() - e2.mean()) < threshold:\n",
    "                break\n",
    "        grad = gradient_mini_batch(X,Y,theta,batch_size)\n",
    "        error_list.append(error(X,Y,theta))\n",
    "        theta -= l*grad\n",
    "        itr += 1\n",
    "    return theta, error_list"
   ]
  },
  {
   "cell_type": "code",
   "execution_count": 82,
   "metadata": {},
   "outputs": [],
   "source": [
    "final_result_mini_batch, error_list_mini_batch = multivariate_gradient_descent_mini_batch(X_train,Y_train)"
   ]
  },
  {
   "cell_type": "code",
   "execution_count": 96,
   "metadata": {},
   "outputs": [
    {
     "name": "stdout",
     "output_type": "stream",
     "text": [
      "Hypothesis:  [ 1.11637843 29.69032372 92.55137082  8.10896785 44.60965144  2.55474145]\n"
     ]
    },
    {
     "data": {
      "image/png": "[encoded data removed]",
      "text/plain": [
       "<Figure size 432x288 with 1 Axes>"
      ]
     },
     "metadata": {
      "needs_background": "light"
     },
     "output_type": "display_data"
    }
   ],
   "source": [
    "print(\"Hypothesis: \",final_result_mini_batch)\n",
    "plt.plot(error_list_mini_batch[10:])\n",
    "plt.title(\"Error in stochastic GD\")\n",
    "plt.show()"
   ]
  },
  {
   "cell_type": "code",
   "execution_count": 84,
   "metadata": {},
   "outputs": [
    {
     "name": "stdout",
     "output_type": "stream",
     "text": [
      "Score in stochastic GD\n",
      "Train score: 0.964875\n",
      "Test score: 0.967133\n"
     ]
    }
   ],
   "source": [
    "train_score = coeff_of_deter(predict(X_train,final_result_mini_batch),Y_train)\n",
    "test_score = coeff_of_deter(predict(X_test,final_result_mini_batch),Y_test)\n",
    "print(\"Score in stochastic GD\")\n",
    "print(\"Train score: %f\"%train_score)\n",
    "print(\"Test score: %f\"%test_score)"
   ]
  }
 ],
 "metadata": {
  "kernelspec": {
   "display_name": "Python 3",
   "language": "python",
   "name": "python3"
  },
  "language_info": {
   "codemirror_mode": {
    "name": "ipython",
    "version": 3
   },
   "file_extension": ".py",
   "mimetype": "text/x-python",
   "name": "python",
   "nbconvert_exporter": "python",
   "pygments_lexer": "ipython3",
   "version": "3.7.0"
  }
 },
 "nbformat": 4,
 "nbformat_minor": 2
}
